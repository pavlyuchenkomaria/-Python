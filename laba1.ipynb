{
  "nbformat": 4,
  "nbformat_minor": 0,
  "metadata": {
    "colab": {
      "name": "Untitled6.ipynb",
      "provenance": [],
      "collapsed_sections": [],
      "authorship_tag": "ABX9TyMoJkBwSg4Uleb0kR68TGf0",
      "include_colab_link": true
    },
    "kernelspec": {
      "name": "python3",
      "display_name": "Python 3"
    }
  },
  "cells": [
    {
      "cell_type": "markdown",
      "metadata": {
        "id": "view-in-github",
        "colab_type": "text"
      },
      "source": [
        "<a href=\"https://colab.research.google.com/github/pavlyuchenkomaria/-Python/blob/master/laba1.ipynb\" target=\"_parent\"><img src=\"https://colab.research.google.com/assets/colab-badge.svg\" alt=\"Open In Colab\"/></a>"
      ]
    },
    {
      "cell_type": "code",
      "metadata": {
        "id": "kVPTddT5Mosd",
        "colab_type": "code",
        "colab": {}
      },
      "source": [
        "import numpy as np\n",
        "import matplotlib.pyplot as plt\n",
        "\n",
        "def f(x):\n",
        "  return np.log10(1+2*x) + x - 2\n",
        "\n",
        "X = np.linspace(1.25, 1.6, 100)"
      ],
      "execution_count": 0,
      "outputs": []
    },
    {
      "cell_type": "code",
      "metadata": {
        "id": "fR0aMvMTohYc",
        "colab_type": "code",
        "colab": {
          "base_uri": "https://localhost:8080/",
          "height": 35
        },
        "outputId": "cf47871f-dfef-412f-ab92-562255d61dd2"
      },
      "source": [
        "from sympy import Symbol, solve, log\n",
        "x = Symbol('x')\n",
        "solve(log(1+2*x) + x - 2, x)\n"
      ],
      "execution_count": 106,
      "outputs": [
        {
          "output_type": "execute_result",
          "data": {
            "text/plain": [
              "[-1/2 + LambertW(exp(5/2)/2)]"
            ]
          },
          "metadata": {
            "tags": []
          },
          "execution_count": 106
        }
      ]
    },
    {
      "cell_type": "code",
      "metadata": {
        "id": "Zy4JaZtWNZcD",
        "colab_type": "code",
        "colab": {
          "base_uri": "https://localhost:8080/",
          "height": 545
        },
        "outputId": "b0ede2c4-4ce5-4e22-b5be-78c80b124749"
      },
      "source": [
        "plt.plot(X, f(X))\n",
        "plt.plot(X, np.repeat(0, X.shape), c='r')\n",
        "plt.legend(['f(x)', 'x axis'])\n",
        "plt.title(\"Графический метод\")\n",
        "plt.show()\n",
        "def phi(x):\n",
        "  return np.log10(1+2*x)\n",
        "def psi(x):\n",
        "  return  (2-x)\n",
        "\n",
        "plt.plot(X, phi(X))\n",
        "plt.plot(X, psi(X))\n",
        "plt.legend(['phi(x)', 'psi(x)'])\n",
        "plt.title(\"Графический метод\");"
      ],
      "execution_count": 62,
      "outputs": [
        {
          "output_type": "display_data",
          "data": {
            "image/png": "[encoded data removed]",
            "text/plain": [
              "<Figure size 432x288 with 1 Axes>"
            ]
          },
          "metadata": {
            "tags": []
          }
        },
        {
          "output_type": "display_data",
          "data": {
            "image/png": "[encoded data removed]",
            "text/plain": [
              "<Figure size 432x288 with 1 Axes>"
            ]
          },
          "metadata": {
            "tags": []
          }
        }
      ]
    },
    {
      "cell_type": "markdown",
      "metadata": {
        "id": "l1o3XV9XZwig",
        "colab_type": "text"
      },
      "source": [
        "Метод простой итерации\n"
      ]
    },
    {
      "cell_type": "code",
      "metadata": {
        "id": "abOYjcsTOpEl",
        "colab_type": "code",
        "colab": {
          "base_uri": "https://localhost:8080/",
          "height": 35
        },
        "outputId": "97ffc126-9eca-4e1a-9d4e-4c2ddcce84ab"
      },
      "source": [
        "def Fi0(x):\n",
        "  return 2-np.log10(1+2*x)\n",
        "a = 1.25\n",
        "b = 1.5\n",
        "check=0\n",
        "def easy_iteration_method_0(a,b,Fi0,check,eps=0.00001):\n",
        "  for i in np.arange(a,b):\n",
        "    if abs(Fi0(i))<1:\n",
        "      check=1\n",
        "      return check\n",
        "  if check==0:\n",
        "    lam = 1/f(a)    \n",
        "  return f(a)\n",
        "lam = easy_iteration_method_0(1.25,1.5,Fi0,0,0.00001)\n",
        "print(lam) \n",
        "\n",
        "def Fi(x):\n",
        "  return x-lam*f(x)\n",
        "\n",
        "# если в выводе 1, используем Fi0, иначе - Fi"
      ],
      "execution_count": 98,
      "outputs": [
        {
          "output_type": "stream",
          "text": [
            "-0.20593195564972433\n"
          ],
          "name": "stdout"
        }
      ]
    },
    {
      "cell_type": "code",
      "metadata": {
        "id": "_msOrO37SWXI",
        "colab_type": "code",
        "colab": {}
      },
      "source": [
        "def easy_iteration_method(a,b,Fi,eps,N=0):\n",
        "  x0 = a\n",
        "  x1 = a+2*eps\n",
        "  while (abs(x1-x0))>=eps:\n",
        "    temp=x1\n",
        "    x1=Fi(x0)\n",
        "    x0=temp\n",
        "    N=N+1\n",
        "  return x1,N\n"
      ],
      "execution_count": 0,
      "outputs": []
    },
    {
      "cell_type": "code",
      "metadata": {
        "id": "qUrvFk06W9AB",
        "colab_type": "code",
        "colab": {
          "base_uri": "https://localhost:8080/",
          "height": 92
        },
        "outputId": "fb21838e-ff1b-4ff1-d3c0-5664ca3e6f32"
      },
      "source": [
        "easy_iteration_method(1.25,1.5,Fi,0.00001,0)\n",
        "# (nan, 23)"
      ],
      "execution_count": 100,
      "outputs": [
        {
          "output_type": "stream",
          "text": [
            "/usr/local/lib/python3.6/dist-packages/ipykernel_launcher.py:3: RuntimeWarning: invalid value encountered in log10\n",
            "  This is separate from the ipykernel package so we can avoid doing imports until\n"
          ],
          "name": "stderr"
        },
        {
          "output_type": "execute_result",
          "data": {
            "text/plain": [
              "(nan, 23)"
            ]
          },
          "metadata": {
            "tags": []
          },
          "execution_count": 100
        }
      ]
    },
    {
      "cell_type": "markdown",
      "metadata": {
        "id": "RjJh6nD5Z4C5",
        "colab_type": "text"
      },
      "source": [
        "Метод Ньютона"
      ]
    },
    {
      "cell_type": "code",
      "metadata": {
        "id": "bsJshfKmZocb",
        "colab_type": "code",
        "colab": {
          "base_uri": "https://localhost:8080/",
          "height": 91
        },
        "outputId": "50206b73-3a64-4ecb-907c-f9b31e825f1b"
      },
      "source": [
        "import scipy\n",
        "from scipy import misc\n",
        "def f(x):\n",
        "   return np.log10(1+2*x) + x - 2\n",
        "def f1(x):\n",
        "   return 1+2/((2*x+1)*ln(10))\n",
        "\n",
        "x0=1.25\n",
        "print('f(x0): ', f(x0))\n",
        "print('f1(x0): ', f1(x0))\n",
        "print('f2(x0): ', misc.derivative(f1, x0))\n",
        "print('checking...', 1 if f(x0)*misc.derivative(f1, x0) > 0 else -1)\n",
        "\n",
        "def Newton_method(f,x0,eps,N=0):\n",
        "  x1=x0+2*eps\n",
        "  while (abs(x1-x0))>=eps:\n",
        "    temp=x1\n",
        "    x1=x0 - f(x0)/misc.derivative(f, x0)\n",
        "    x0=temp\n",
        "    N=N+1\n",
        "  return x1,N"
      ],
      "execution_count": 81,
      "outputs": [
        {
          "output_type": "stream",
          "text": [
            "f(x0):  -0.20593195564972433\n",
            "f1(x0):  0.571428571428571/log(10) + 1\n",
            "f2(x0):  -0.484848484848485/log(10)\n",
            "checking... 1\n"
          ],
          "name": "stdout"
        }
      ]
    },
    {
      "cell_type": "code",
      "metadata": {
        "id": "Yd2Qqqoufgrq",
        "colab_type": "code",
        "colab": {
          "base_uri": "https://localhost:8080/",
          "height": 35
        },
        "outputId": "47aff747-1a12-458b-c4aa-ad9906016813"
      },
      "source": [
        "Newton_method(f,1.25,0.00001,0)\n",
        "# 1.410617404929345,2"
      ],
      "execution_count": 82,
      "outputs": [
        {
          "output_type": "execute_result",
          "data": {
            "text/plain": [
              "(1.410617404929345, 2)"
            ]
          },
          "metadata": {
            "tags": []
          },
          "execution_count": 82
        }
      ]
    },
    {
      "cell_type": "markdown",
      "metadata": {
        "id": "4S81yygNjear",
        "colab_type": "text"
      },
      "source": [
        "Метод секущих (модификация метода простой итерации)\n"
      ]
    },
    {
      "cell_type": "code",
      "metadata": {
        "id": "tkqMZ72ljbE1",
        "colab_type": "code",
        "colab": {}
      },
      "source": [
        "def Fi(x):\n",
        "  return 2-np.log10(1+2*x)\n",
        "a = 1.25\n",
        "b = 1.5\n",
        "\n",
        "def easy_iteration_method_mod(a,b,Fi,eps,N=0):\n",
        "  x0 = a\n",
        "  x1 = a+2*eps\n",
        "  while (abs(x1-x0))>=eps:\n",
        "    temp=x1\n",
        "    x1=(x0*Fi(x1)-x1*Fi(x0))/(Fi(x1)-x1+x0-Fi(x0))\n",
        "    x0=temp\n",
        "    N=N+1\n",
        "  return x1,N\n"
      ],
      "execution_count": 0,
      "outputs": []
    },
    {
      "cell_type": "code",
      "metadata": {
        "id": "Vpi8kHPSjxJz",
        "colab_type": "code",
        "colab": {
          "base_uri": "https://localhost:8080/",
          "height": 35
        },
        "outputId": "4534a816-966b-451b-b5a6-cc8b8b995e27"
      },
      "source": [
        "easy_iteration_method_mod(a,b,Fi,0.00001,0)\n",
        "# 1.4164683523854575, 4"
      ],
      "execution_count": 89,
      "outputs": [
        {
          "output_type": "execute_result",
          "data": {
            "text/plain": [
              "(1.4164683523854575, 4)"
            ]
          },
          "metadata": {
            "tags": []
          },
          "execution_count": 89
        }
      ]
    },
    {
      "cell_type": "markdown",
      "metadata": {
        "id": "bKsfcZyvjosJ",
        "colab_type": "text"
      },
      "source": [
        "Метод секущих (модификация метода Ньютона)"
      ]
    },
    {
      "cell_type": "code",
      "metadata": {
        "id": "BL-g-I9qkzT3",
        "colab_type": "code",
        "colab": {}
      },
      "source": [
        "x0=1.25\n",
        "def f(x):\n",
        "   return np.log10(1+2*x) + x - 2\n",
        "def Newton_method_mod(f,x0,eps,N=0):\n",
        "  x1=x0+2*eps\n",
        "  while (abs(x1-x0))>=eps:\n",
        "    temp=x1\n",
        "    x1=(x0*f(x1)-x1*f(x0))/(f(x1)-f(x0))\n",
        "    x0=temp\n",
        "    N=N+1\n",
        "  return x1,N"
      ],
      "execution_count": 0,
      "outputs": []
    },
    {
      "cell_type": "code",
      "metadata": {
        "id": "4EC2XoBylUZA",
        "colab_type": "code",
        "colab": {
          "base_uri": "https://localhost:8080/",
          "height": 35
        },
        "outputId": "bee3d12d-01e7-49f9-b32d-08f0c4fcfe36"
      },
      "source": [
        "Newton_method_mod(f,x0,0.00001,0)\n",
        "# 1.4164683524067898, 4"
      ],
      "execution_count": 93,
      "outputs": [
        {
          "output_type": "execute_result",
          "data": {
            "text/plain": [
              "(1.4164683524067898, 4)"
            ]
          },
          "metadata": {
            "tags": []
          },
          "execution_count": 93
        }
      ]
    },
    {
      "cell_type": "markdown",
      "metadata": {
        "id": "TA-InwUvjsH8",
        "colab_type": "text"
      },
      "source": [
        "Метод Стеффенсона"
      ]
    },
    {
      "cell_type": "code",
      "metadata": {
        "id": "-k9Aa9aYlh-C",
        "colab_type": "code",
        "colab": {}
      },
      "source": [
        "def Fi(x):\n",
        "  return 2-np.log10(1+2*x)\n",
        "a = 1.25\n",
        "\n",
        "def steff_mod(a,b,Fi,eps,N=0):\n",
        "  x0 = a\n",
        "  x1 = a+2*eps\n",
        "  while (abs(x1-x0))>=eps:\n",
        "    temp=x1\n",
        "    x1=(x1*Fi(Fi(x1))-Fi(x1)*Fi(x1))/(Fi(Fi(x1))-2*Fi(x1)+x1)\n",
        "    x0=temp\n",
        "    N=N+1\n",
        "  return x1,N "
      ],
      "execution_count": 0,
      "outputs": []
    },
    {
      "cell_type": "code",
      "metadata": {
        "id": "MFlOoZjzmWks",
        "colab_type": "code",
        "colab": {
          "base_uri": "https://localhost:8080/",
          "height": 35
        },
        "outputId": "90561ea9-b45a-4477-b25c-726d89ade1c0"
      },
      "source": [
        "steff_mod(a,b,Fi,0.00001,0)\n",
        "# 1.4164683943714977, 3"
      ],
      "execution_count": 95,
      "outputs": [
        {
          "output_type": "execute_result",
          "data": {
            "text/plain": [
              "(1.4164683943714977, 3)"
            ]
          },
          "metadata": {
            "tags": []
          },
          "execution_count": 95
        }
      ]
    }
  ]
}